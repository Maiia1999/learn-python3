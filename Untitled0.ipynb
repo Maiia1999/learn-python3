{
  "nbformat": 4,
  "nbformat_minor": 0,
  "metadata": {
    "colab": {
      "name": "Untitled0.ipynb",
      "provenance": [],
      "authorship_tag": "ABX9TyP0TVWsQrBn0ScpLD2MY5uD",
      "include_colab_link": true
    },
    "kernelspec": {
      "name": "python3",
      "display_name": "Python 3"
    },
    "language_info": {
      "name": "python"
    }
  },
  "cells": [
    {
      "cell_type": "markdown",
      "metadata": {
        "id": "view-in-github",
        "colab_type": "text"
      },
      "source": [
        "<a href=\"https://colab.research.google.com/github/Maiia1999/learn-python3/blob/master/Untitled0.ipynb\" target=\"_parent\"><img src=\"https://colab.research.google.com/assets/colab-badge.svg\" alt=\"Open In Colab\"/></a>"
      ]
    },
    {
      "cell_type": "code",
      "metadata": {
        "colab": {
          "base_uri": "https://localhost:8080/"
        },
        "id": "CSKWzEzHxi-i",
        "outputId": "4dfd9fbc-ac20-4910-e3ba-0c9d5eee858e"
      },
      "source": [
        "num=19\n",
        "type(num)"
      ],
      "execution_count": 1,
      "outputs": [
        {
          "output_type": "execute_result",
          "data": {
            "text/plain": [
              "int"
            ]
          },
          "metadata": {
            "tags": []
          },
          "execution_count": 1
        }
      ]
    },
    {
      "cell_type": "code",
      "metadata": {
        "colab": {
          "base_uri": "https://localhost:8080/"
        },
        "id": "gWw9i-afzUkH",
        "outputId": "c912876b-2bf6-48ed-e76e-47c115f057b2"
      },
      "source": [
        "num= 4.9\n",
        "type (num)"
      ],
      "execution_count": 2,
      "outputs": [
        {
          "output_type": "execute_result",
          "data": {
            "text/plain": [
              "float"
            ]
          },
          "metadata": {
            "tags": []
          },
          "execution_count": 2
        }
      ]
    },
    {
      "cell_type": "code",
      "metadata": {
        "colab": {
          "base_uri": "https://localhost:8080/"
        },
        "id": "2C1zuykwzgEW",
        "outputId": "608bead8-15ed-485d-ccfb-d4cfbac79f02"
      },
      "source": [
        "num = 4+8j\n",
        "type(num)"
      ],
      "execution_count": 4,
      "outputs": [
        {
          "output_type": "execute_result",
          "data": {
            "text/plain": [
              "complex"
            ]
          },
          "metadata": {
            "tags": []
          },
          "execution_count": 4
        }
      ]
    },
    {
      "cell_type": "code",
      "metadata": {
        "colab": {
          "base_uri": "https://localhost:8080/"
        },
        "id": "Bc6bArVJ2A0I",
        "outputId": "8cc3b022-6054-43fd-9c58-4c9085d005e1"
      },
      "source": [
        "num= 236738.6788\n",
        "num"
      ],
      "execution_count": 11,
      "outputs": [
        {
          "output_type": "execute_result",
          "data": {
            "text/plain": [
              "236738.6788"
            ]
          },
          "metadata": {
            "tags": []
          },
          "execution_count": 11
        }
      ]
    },
    {
      "cell_type": "code",
      "metadata": {
        "colab": {
          "base_uri": "https://localhost:8080/"
        },
        "id": "YNaZ8SeP2GTS",
        "outputId": "ad13a7ab-e9d5-48a5-b5ba-e9cc775fad88"
      },
      "source": [
        "num1 = 12\n",
        "num2=5\n",
        "print(num1+num2)\n",
        "print(num1-num2)\n",
        "print(num1*num2)\n",
        "print(num1**num2)\n",
        "print(num1/num2)\n",
        "print(num1//num2)\n",
        "print(num1%num2)"
      ],
      "execution_count": 14,
      "outputs": [
        {
          "output_type": "stream",
          "text": [
            "17\n",
            "7\n",
            "60\n",
            "248832\n",
            "2.4\n",
            "2\n",
            "2\n"
          ],
          "name": "stdout"
        }
      ]
    },
    {
      "cell_type": "markdown",
      "metadata": {
        "id": "gI11oQ_W3o9P"
      },
      "source": [
        "CONVERSIONS"
      ]
    },
    {
      "cell_type": "code",
      "metadata": {
        "colab": {
          "base_uri": "https://localhost:8080/"
        },
        "id": "u_X1mfew3tSJ",
        "outputId": "fcc4fcf1-65a9-4af4-9c65-ff937ea751da"
      },
      "source": [
        "x=\"567\"\n",
        "type (x)"
      ],
      "execution_count": 16,
      "outputs": [
        {
          "output_type": "execute_result",
          "data": {
            "text/plain": [
              "str"
            ]
          },
          "metadata": {
            "tags": []
          },
          "execution_count": 16
        }
      ]
    },
    {
      "cell_type": "code",
      "metadata": {
        "colab": {
          "base_uri": "https://localhost:8080/"
        },
        "id": "aSFgK8gb38FS",
        "outputId": "5c13e8e7-c50d-468f-c596-b492fc8b3e6b"
      },
      "source": [
        "int(x)"
      ],
      "execution_count": 17,
      "outputs": [
        {
          "output_type": "execute_result",
          "data": {
            "text/plain": [
              "567"
            ]
          },
          "metadata": {
            "tags": []
          },
          "execution_count": 17
        }
      ]
    },
    {
      "cell_type": "code",
      "metadata": {
        "colab": {
          "base_uri": "https://localhost:8080/"
        },
        "id": "OmFKF2dN4XQi",
        "outputId": "33af7bde-51c8-4c5e-a9b5-3edc59917d50"
      },
      "source": [
        "x=int(x)\n",
        "type (x)"
      ],
      "execution_count": 18,
      "outputs": [
        {
          "output_type": "execute_result",
          "data": {
            "text/plain": [
              "int"
            ]
          },
          "metadata": {
            "tags": []
          },
          "execution_count": 18
        }
      ]
    },
    {
      "cell_type": "code",
      "metadata": {
        "colab": {
          "base_uri": "https://localhost:8080/"
        },
        "id": "t2ziSiQ-41tK",
        "outputId": "d064b88d-b3be-49e3-adea-93673414e18a"
      },
      "source": [
        "x=float(x)\n",
        "print (x)"
      ],
      "execution_count": 19,
      "outputs": [
        {
          "output_type": "stream",
          "text": [
            "567.0\n"
          ],
          "name": "stdout"
        }
      ]
    },
    {
      "cell_type": "code",
      "metadata": {
        "colab": {
          "base_uri": "https://localhost:8080/"
        },
        "id": "0_xN80oZ48DO",
        "outputId": "0392ec74-d4d9-4d4e-bc33-bdd4af18376e"
      },
      "source": [
        "x=complex(x)\n",
        "print (x)"
      ],
      "execution_count": 20,
      "outputs": [
        {
          "output_type": "stream",
          "text": [
            "(567+0j)\n"
          ],
          "name": "stdout"
        }
      ]
    },
    {
      "cell_type": "markdown",
      "metadata": {
        "id": "_Fs_Q-XA-hIn"
      },
      "source": [
        "PT EXO"
      ]
    },
    {
      "cell_type": "code",
      "metadata": {
        "colab": {
          "base_uri": "https://localhost:8080/"
        },
        "id": "wsl7RjUt-itT",
        "outputId": "95fe3755-07a7-4fa0-c509-3d21f7ccb067"
      },
      "source": [
        "age = input (\"Entrez votre age\") #requête à l'utilisateur\n",
        "age = int(age) #pour convertir un str en int pour les calculs\n",
        "age_prochain = age + 1\n",
        "if (age>18):\n",
        "  print(\"Vous êtes majeur\") #ne pas oublier les guillemets \n",
        "else:\n",
        "  print(\"Vous êtes mineur\")\n",
        "print (\"Votre age sera\" + str (age_prochain)) #un chiffre s'affiche tjrs en str "
      ],
      "execution_count": 27,
      "outputs": [
        {
          "output_type": "stream",
          "text": [
            "Entrez votre age20\n",
            "Vous êtes majeur\n",
            "Votre age sera21\n"
          ],
          "name": "stdout"
        }
      ]
    },
    {
      "cell_type": "markdown",
      "metadata": {
        "id": "kNVUBuvSBJuN"
      },
      "source": [
        "TROUVER LE MAX"
      ]
    },
    {
      "cell_type": "code",
      "metadata": {
        "colab": {
          "base_uri": "https://localhost:8080/"
        },
        "id": "ccx80xCABMv6",
        "outputId": "31f49b2d-287e-4c4a-bf64-55642ec66894"
      },
      "source": [
        "nombre = input (\"Guess the number\")\n",
        "nombre = int ( nombre) #tjrs transformer le nbre en int pour les calculs\n",
        "a = 5\n",
        "if nombre>a:\n",
        "  print(\"Give a smaller number\") #ne pas oublier les guillemets\n",
        "elif nombre==a: #NE PAS OUBLIER LES :\n",
        "   print (\"Well done\")\n",
        "else:\n",
        "    print (\"Give a higher number\")"
      ],
      "execution_count": 50,
      "outputs": [
        {
          "output_type": "stream",
          "text": [
            "Guess the number5\n",
            "Well done\n"
          ],
          "name": "stdout"
        }
      ]
    }
  ]
}